{
 "cells": [
  {
   "cell_type": "code",
   "execution_count": 4,
   "metadata": {},
   "outputs": [
    {
     "name": "stdout",
     "output_type": "stream",
     "text": [
      "Collecting h5json\n",
      "  Downloading h5json-1.1.3.tar.gz (48 kB)\n",
      "\u001b[K     |████████████████████████████████| 48 kB 1.4 MB/s eta 0:00:01\n",
      "\u001b[?25hRequirement already satisfied: numpy>=1.10.4 in /opt/homebrew/Caskroom/miniforge/base/envs/364/lib/python3.10/site-packages (from h5json) (1.22.3)\n",
      "Collecting h5py>=2.5\n",
      "  Using cached h5py-3.6.0.tar.gz (384 kB)\n",
      "  Installing build dependencies ... \u001b[?25ldone\n",
      "\u001b[?25h  Getting requirements to build wheel ... \u001b[?25ldone\n",
      "\u001b[?25h    Preparing wheel metadata ... \u001b[?25ldone\n",
      "\u001b[?25hBuilding wheels for collected packages: h5json, h5py\n",
      "  Building wheel for h5json (setup.py) ... \u001b[?25ldone\n",
      "\u001b[?25h  Created wheel for h5json: filename=h5json-1.1.3-py2.py3-none-any.whl size=39405 sha256=d241337ced93394060df7d1f9af51ad8dcd136bceaf68948d9286aa3003b662f\n",
      "  Stored in directory: /Users/zacharybenson/Library/Caches/pip/wheels/42/df/40/2d48a0dffa1ea4768d673120a197f258b1fc592669ee0babaf\n",
      "  Building wheel for h5py (PEP 517) ... \u001b[?25lerror\n",
      "\u001b[31m  ERROR: Command errored out with exit status 1:\n",
      "   command: /opt/homebrew/Caskroom/miniforge/base/envs/364/bin/python /opt/homebrew/Caskroom/miniforge/base/envs/364/lib/python3.10/site-packages/pip/_vendor/pep517/in_process/_in_process.py build_wheel /var/folders/hz/6tjnhm_x5_x2dkqkxh8n13cw0000gn/T/tmppp00fzle\n",
      "       cwd: /private/var/folders/hz/6tjnhm_x5_x2dkqkxh8n13cw0000gn/T/pip-install-47kbmlf2/h5py_e37e57d413f84061ad5a675299b74abd\n",
      "  Complete output (71 lines):\n",
      "  running bdist_wheel\n",
      "  running build\n",
      "  running build_py\n",
      "  creating build\n",
      "  creating build/lib.macosx-11.0-arm64-cpython-310\n",
      "  creating build/lib.macosx-11.0-arm64-cpython-310/h5py\n",
      "  copying h5py/h5py_warnings.py -> build/lib.macosx-11.0-arm64-cpython-310/h5py\n",
      "  copying h5py/version.py -> build/lib.macosx-11.0-arm64-cpython-310/h5py\n",
      "  copying h5py/__init__.py -> build/lib.macosx-11.0-arm64-cpython-310/h5py\n",
      "  copying h5py/ipy_completer.py -> build/lib.macosx-11.0-arm64-cpython-310/h5py\n",
      "  creating build/lib.macosx-11.0-arm64-cpython-310/h5py/_hl\n",
      "  copying h5py/_hl/files.py -> build/lib.macosx-11.0-arm64-cpython-310/h5py/_hl\n",
      "  copying h5py/_hl/compat.py -> build/lib.macosx-11.0-arm64-cpython-310/h5py/_hl\n",
      "  copying h5py/_hl/__init__.py -> build/lib.macosx-11.0-arm64-cpython-310/h5py/_hl\n",
      "  copying h5py/_hl/selections.py -> build/lib.macosx-11.0-arm64-cpython-310/h5py/_hl\n",
      "  copying h5py/_hl/dataset.py -> build/lib.macosx-11.0-arm64-cpython-310/h5py/_hl\n",
      "  copying h5py/_hl/vds.py -> build/lib.macosx-11.0-arm64-cpython-310/h5py/_hl\n",
      "  copying h5py/_hl/selections2.py -> build/lib.macosx-11.0-arm64-cpython-310/h5py/_hl\n",
      "  copying h5py/_hl/group.py -> build/lib.macosx-11.0-arm64-cpython-310/h5py/_hl\n",
      "  copying h5py/_hl/datatype.py -> build/lib.macosx-11.0-arm64-cpython-310/h5py/_hl\n",
      "  copying h5py/_hl/attrs.py -> build/lib.macosx-11.0-arm64-cpython-310/h5py/_hl\n",
      "  copying h5py/_hl/dims.py -> build/lib.macosx-11.0-arm64-cpython-310/h5py/_hl\n",
      "  copying h5py/_hl/base.py -> build/lib.macosx-11.0-arm64-cpython-310/h5py/_hl\n",
      "  copying h5py/_hl/filters.py -> build/lib.macosx-11.0-arm64-cpython-310/h5py/_hl\n",
      "  creating build/lib.macosx-11.0-arm64-cpython-310/h5py/tests\n",
      "  copying h5py/tests/test_dimension_scales.py -> build/lib.macosx-11.0-arm64-cpython-310/h5py/tests\n",
      "  copying h5py/tests/test_attribute_create.py -> build/lib.macosx-11.0-arm64-cpython-310/h5py/tests\n",
      "  copying h5py/tests/test_file_image.py -> build/lib.macosx-11.0-arm64-cpython-310/h5py/tests\n",
      "  copying h5py/tests/conftest.py -> build/lib.macosx-11.0-arm64-cpython-310/h5py/tests\n",
      "  copying h5py/tests/test_h5d_direct_chunk.py -> build/lib.macosx-11.0-arm64-cpython-310/h5py/tests\n",
      "  copying h5py/tests/test_h5f.py -> build/lib.macosx-11.0-arm64-cpython-310/h5py/tests\n",
      "  copying h5py/tests/test_dataset_getitem.py -> build/lib.macosx-11.0-arm64-cpython-310/h5py/tests\n",
      "  copying h5py/tests/test_group.py -> build/lib.macosx-11.0-arm64-cpython-310/h5py/tests\n",
      "  copying h5py/tests/test_errors.py -> build/lib.macosx-11.0-arm64-cpython-310/h5py/tests\n",
      "  copying h5py/tests/test_dataset_swmr.py -> build/lib.macosx-11.0-arm64-cpython-310/h5py/tests\n",
      "  copying h5py/tests/test_slicing.py -> build/lib.macosx-11.0-arm64-cpython-310/h5py/tests\n",
      "  copying h5py/tests/test_h5pl.py -> build/lib.macosx-11.0-arm64-cpython-310/h5py/tests\n",
      "  copying h5py/tests/test_attrs.py -> build/lib.macosx-11.0-arm64-cpython-310/h5py/tests\n",
      "  copying h5py/tests/__init__.py -> build/lib.macosx-11.0-arm64-cpython-310/h5py/tests\n",
      "  copying h5py/tests/test_attrs_data.py -> build/lib.macosx-11.0-arm64-cpython-310/h5py/tests\n",
      "  copying h5py/tests/test_h5t.py -> build/lib.macosx-11.0-arm64-cpython-310/h5py/tests\n",
      "  copying h5py/tests/test_big_endian_file.py -> build/lib.macosx-11.0-arm64-cpython-310/h5py/tests\n",
      "  copying h5py/tests/test_h5p.py -> build/lib.macosx-11.0-arm64-cpython-310/h5py/tests\n",
      "  copying h5py/tests/test_dims_dimensionproxy.py -> build/lib.macosx-11.0-arm64-cpython-310/h5py/tests\n",
      "  copying h5py/tests/test_h5o.py -> build/lib.macosx-11.0-arm64-cpython-310/h5py/tests\n",
      "  copying h5py/tests/test_datatype.py -> build/lib.macosx-11.0-arm64-cpython-310/h5py/tests\n",
      "  copying h5py/tests/common.py -> build/lib.macosx-11.0-arm64-cpython-310/h5py/tests\n",
      "  copying h5py/tests/test_dataset.py -> build/lib.macosx-11.0-arm64-cpython-310/h5py/tests\n",
      "  copying h5py/tests/test_file.py -> build/lib.macosx-11.0-arm64-cpython-310/h5py/tests\n",
      "  copying h5py/tests/test_selections.py -> build/lib.macosx-11.0-arm64-cpython-310/h5py/tests\n",
      "  copying h5py/tests/test_dtype.py -> build/lib.macosx-11.0-arm64-cpython-310/h5py/tests\n",
      "  copying h5py/tests/test_h5.py -> build/lib.macosx-11.0-arm64-cpython-310/h5py/tests\n",
      "  copying h5py/tests/test_file2.py -> build/lib.macosx-11.0-arm64-cpython-310/h5py/tests\n",
      "  copying h5py/tests/test_completions.py -> build/lib.macosx-11.0-arm64-cpython-310/h5py/tests\n",
      "  copying h5py/tests/test_filters.py -> build/lib.macosx-11.0-arm64-cpython-310/h5py/tests\n",
      "  copying h5py/tests/test_base.py -> build/lib.macosx-11.0-arm64-cpython-310/h5py/tests\n",
      "  copying h5py/tests/test_objects.py -> build/lib.macosx-11.0-arm64-cpython-310/h5py/tests\n",
      "  creating build/lib.macosx-11.0-arm64-cpython-310/h5py/tests/data_files\n",
      "  copying h5py/tests/data_files/__init__.py -> build/lib.macosx-11.0-arm64-cpython-310/h5py/tests/data_files\n",
      "  creating build/lib.macosx-11.0-arm64-cpython-310/h5py/tests/test_vds\n",
      "  copying h5py/tests/test_vds/test_highlevel_vds.py -> build/lib.macosx-11.0-arm64-cpython-310/h5py/tests/test_vds\n",
      "  copying h5py/tests/test_vds/test_virtual_source.py -> build/lib.macosx-11.0-arm64-cpython-310/h5py/tests/test_vds\n",
      "  copying h5py/tests/test_vds/__init__.py -> build/lib.macosx-11.0-arm64-cpython-310/h5py/tests/test_vds\n",
      "  copying h5py/tests/test_vds/test_lowlevel_vds.py -> build/lib.macosx-11.0-arm64-cpython-310/h5py/tests/test_vds\n",
      "  copying h5py/tests/data_files/vlen_string_s390x.h5 -> build/lib.macosx-11.0-arm64-cpython-310/h5py/tests/data_files\n",
      "  copying h5py/tests/data_files/vlen_string_dset_utc.h5 -> build/lib.macosx-11.0-arm64-cpython-310/h5py/tests/data_files\n",
      "  copying h5py/tests/data_files/vlen_string_dset.h5 -> build/lib.macosx-11.0-arm64-cpython-310/h5py/tests/data_files\n",
      "  running build_ext\n",
      "  Loading library to get build settings and version: libhdf5.dylib\n",
      "  error: Unable to load dependency HDF5, make sure HDF5 is installed properly\n",
      "  error: dlopen(libhdf5.dylib, 0x0006): tried: '/opt/homebrew/Caskroom/miniforge/base/envs/364/lib/python3.10/lib-dynload/../../libhdf5.dylib' (no such file), '/opt/homebrew/Caskroom/miniforge/base/envs/364/bin/../lib/libhdf5.dylib' (no such file), 'libhdf5.dylib' (no such file), '/usr/local/lib/libhdf5.dylib' (no such file), '/usr/lib/libhdf5.dylib' (no such file), '/private/var/folders/hz/6tjnhm_x5_x2dkqkxh8n13cw0000gn/T/pip-install-47kbmlf2/h5py_e37e57d413f84061ad5a675299b74abd/libhdf5.dylib' (no such file)\n",
      "  ----------------------------------------\u001b[0m\n",
      "\u001b[?25h\u001b[31m  ERROR: Failed building wheel for h5py\u001b[0m\n",
      "Successfully built h5json\n",
      "Failed to build h5py\n",
      "\u001b[31mERROR: Could not build wheels for h5py which use PEP 517 and cannot be installed directly\u001b[0m\n"
     ]
    }
   ],
   "source": [
    "!pip install h5json"
   ]
  },
  {
   "cell_type": "code",
   "execution_count": 3,
   "metadata": {},
   "outputs": [
    {
     "name": "stderr",
     "output_type": "stream",
     "text": [
      "2022-05-01 17:34:15.619422: I tensorflow/core/common_runtime/pluggable_device/pluggable_device_factory.cc:305] Could not identify NUMA node of platform GPU ID 0, defaulting to 0. Your kernel may not have been built with NUMA support.\n",
      "2022-05-01 17:34:15.619586: I tensorflow/core/common_runtime/pluggable_device/pluggable_device_factory.cc:271] Created TensorFlow device (/job:localhost/replica:0/task:0/device:GPU:0 with 0 MB memory) -> physical PluggableDevice (device: 0, name: METAL, pci bus id: <undefined>)\n"
     ]
    },
    {
     "name": "stdout",
     "output_type": "stream",
     "text": [
      "Metal device set to: Apple M1 Pro\n"
     ]
    },
    {
     "ename": "FileNotFoundError",
     "evalue": "[Errno 2] Unable to open file (unable to open file: name = '/home/ec2-user/SageMaker/keras_model/model-weights.h5', errno = 2, error message = 'No such file or directory', flags = 0, o_flags = 0)",
     "output_type": "error",
     "traceback": [
      "\u001b[0;31m---------------------------------------------------------------------------\u001b[0m",
      "\u001b[0;31mFileNotFoundError\u001b[0m                         Traceback (most recent call last)",
      "\u001b[0;32m/var/folders/hz/6tjnhm_x5_x2dkqkxh8n13cw0000gn/T/ipykernel_9588/3112970588.py\u001b[0m in \u001b[0;36m<module>\u001b[0;34m\u001b[0m\n\u001b[1;32m      6\u001b[0m \u001b[0mjson_file\u001b[0m\u001b[0;34m.\u001b[0m\u001b[0mclose\u001b[0m\u001b[0;34m(\u001b[0m\u001b[0;34m)\u001b[0m\u001b[0;34m\u001b[0m\u001b[0;34m\u001b[0m\u001b[0m\n\u001b[1;32m      7\u001b[0m \u001b[0mloaded_model\u001b[0m \u001b[0;34m=\u001b[0m \u001b[0mmodel_from_json\u001b[0m\u001b[0;34m(\u001b[0m\u001b[0mloaded_model_json\u001b[0m\u001b[0;34m,\u001b[0m\u001b[0mcustom_objects\u001b[0m\u001b[0;34m=\u001b[0m\u001b[0;34m{\u001b[0m\u001b[0;34m\"GlorotUniform\"\u001b[0m\u001b[0;34m:\u001b[0m \u001b[0mtf\u001b[0m\u001b[0;34m.\u001b[0m\u001b[0mkeras\u001b[0m\u001b[0;34m.\u001b[0m\u001b[0minitializers\u001b[0m\u001b[0;34m.\u001b[0m\u001b[0mglorot_uniform\u001b[0m\u001b[0;34m}\u001b[0m\u001b[0;34m)\u001b[0m\u001b[0;34m\u001b[0m\u001b[0;34m\u001b[0m\u001b[0m\n\u001b[0;32m----> 8\u001b[0;31m \u001b[0mloaded_model\u001b[0m\u001b[0;34m.\u001b[0m\u001b[0mload_weights\u001b[0m\u001b[0;34m(\u001b[0m\u001b[0;34m'/home/ec2-user/SageMaker/keras_model/model-weights.h5'\u001b[0m\u001b[0;34m)\u001b[0m\u001b[0;34m\u001b[0m\u001b[0;34m\u001b[0m\u001b[0m\n\u001b[0m",
      "\u001b[0;32m/opt/homebrew/Caskroom/miniforge/base/envs/tf/lib/python3.9/site-packages/keras/utils/traceback_utils.py\u001b[0m in \u001b[0;36merror_handler\u001b[0;34m(*args, **kwargs)\u001b[0m\n\u001b[1;32m     65\u001b[0m     \u001b[0;32mexcept\u001b[0m \u001b[0mException\u001b[0m \u001b[0;32mas\u001b[0m \u001b[0me\u001b[0m\u001b[0;34m:\u001b[0m  \u001b[0;31m# pylint: disable=broad-except\u001b[0m\u001b[0;34m\u001b[0m\u001b[0;34m\u001b[0m\u001b[0m\n\u001b[1;32m     66\u001b[0m       \u001b[0mfiltered_tb\u001b[0m \u001b[0;34m=\u001b[0m \u001b[0m_process_traceback_frames\u001b[0m\u001b[0;34m(\u001b[0m\u001b[0me\u001b[0m\u001b[0;34m.\u001b[0m\u001b[0m__traceback__\u001b[0m\u001b[0;34m)\u001b[0m\u001b[0;34m\u001b[0m\u001b[0;34m\u001b[0m\u001b[0m\n\u001b[0;32m---> 67\u001b[0;31m       \u001b[0;32mraise\u001b[0m \u001b[0me\u001b[0m\u001b[0;34m.\u001b[0m\u001b[0mwith_traceback\u001b[0m\u001b[0;34m(\u001b[0m\u001b[0mfiltered_tb\u001b[0m\u001b[0;34m)\u001b[0m \u001b[0;32mfrom\u001b[0m \u001b[0;32mNone\u001b[0m\u001b[0;34m\u001b[0m\u001b[0;34m\u001b[0m\u001b[0m\n\u001b[0m\u001b[1;32m     68\u001b[0m     \u001b[0;32mfinally\u001b[0m\u001b[0;34m:\u001b[0m\u001b[0;34m\u001b[0m\u001b[0;34m\u001b[0m\u001b[0m\n\u001b[1;32m     69\u001b[0m       \u001b[0;32mdel\u001b[0m \u001b[0mfiltered_tb\u001b[0m\u001b[0;34m\u001b[0m\u001b[0;34m\u001b[0m\u001b[0m\n",
      "\u001b[0;32m/opt/homebrew/Caskroom/miniforge/base/envs/tf/lib/python3.9/site-packages/h5py/_hl/files.py\u001b[0m in \u001b[0;36m__init__\u001b[0;34m(self, name, mode, driver, libver, userblock_size, swmr, rdcc_nslots, rdcc_nbytes, rdcc_w0, track_order, fs_strategy, fs_persist, fs_threshold, fs_page_size, page_buf_size, min_meta_keep, min_raw_keep, locking, **kwds)\u001b[0m\n\u001b[1;32m    505\u001b[0m                                  \u001b[0mfs_persist\u001b[0m\u001b[0;34m=\u001b[0m\u001b[0mfs_persist\u001b[0m\u001b[0;34m,\u001b[0m \u001b[0mfs_threshold\u001b[0m\u001b[0;34m=\u001b[0m\u001b[0mfs_threshold\u001b[0m\u001b[0;34m,\u001b[0m\u001b[0;34m\u001b[0m\u001b[0;34m\u001b[0m\u001b[0m\n\u001b[1;32m    506\u001b[0m                                  fs_page_size=fs_page_size)\n\u001b[0;32m--> 507\u001b[0;31m                 \u001b[0mfid\u001b[0m \u001b[0;34m=\u001b[0m \u001b[0mmake_fid\u001b[0m\u001b[0;34m(\u001b[0m\u001b[0mname\u001b[0m\u001b[0;34m,\u001b[0m \u001b[0mmode\u001b[0m\u001b[0;34m,\u001b[0m \u001b[0muserblock_size\u001b[0m\u001b[0;34m,\u001b[0m \u001b[0mfapl\u001b[0m\u001b[0;34m,\u001b[0m \u001b[0mfcpl\u001b[0m\u001b[0;34m,\u001b[0m \u001b[0mswmr\u001b[0m\u001b[0;34m=\u001b[0m\u001b[0mswmr\u001b[0m\u001b[0;34m)\u001b[0m\u001b[0;34m\u001b[0m\u001b[0;34m\u001b[0m\u001b[0m\n\u001b[0m\u001b[1;32m    508\u001b[0m \u001b[0;34m\u001b[0m\u001b[0m\n\u001b[1;32m    509\u001b[0m             \u001b[0;32mif\u001b[0m \u001b[0misinstance\u001b[0m\u001b[0;34m(\u001b[0m\u001b[0mlibver\u001b[0m\u001b[0;34m,\u001b[0m \u001b[0mtuple\u001b[0m\u001b[0;34m)\u001b[0m\u001b[0;34m:\u001b[0m\u001b[0;34m\u001b[0m\u001b[0;34m\u001b[0m\u001b[0m\n",
      "\u001b[0;32m/opt/homebrew/Caskroom/miniforge/base/envs/tf/lib/python3.9/site-packages/h5py/_hl/files.py\u001b[0m in \u001b[0;36mmake_fid\u001b[0;34m(name, mode, userblock_size, fapl, fcpl, swmr)\u001b[0m\n\u001b[1;32m    218\u001b[0m         \u001b[0;32mif\u001b[0m \u001b[0mswmr\u001b[0m \u001b[0;32mand\u001b[0m \u001b[0mswmr_support\u001b[0m\u001b[0;34m:\u001b[0m\u001b[0;34m\u001b[0m\u001b[0;34m\u001b[0m\u001b[0m\n\u001b[1;32m    219\u001b[0m             \u001b[0mflags\u001b[0m \u001b[0;34m|=\u001b[0m \u001b[0mh5f\u001b[0m\u001b[0;34m.\u001b[0m\u001b[0mACC_SWMR_READ\u001b[0m\u001b[0;34m\u001b[0m\u001b[0;34m\u001b[0m\u001b[0m\n\u001b[0;32m--> 220\u001b[0;31m         \u001b[0mfid\u001b[0m \u001b[0;34m=\u001b[0m \u001b[0mh5f\u001b[0m\u001b[0;34m.\u001b[0m\u001b[0mopen\u001b[0m\u001b[0;34m(\u001b[0m\u001b[0mname\u001b[0m\u001b[0;34m,\u001b[0m \u001b[0mflags\u001b[0m\u001b[0;34m,\u001b[0m \u001b[0mfapl\u001b[0m\u001b[0;34m=\u001b[0m\u001b[0mfapl\u001b[0m\u001b[0;34m)\u001b[0m\u001b[0;34m\u001b[0m\u001b[0;34m\u001b[0m\u001b[0m\n\u001b[0m\u001b[1;32m    221\u001b[0m     \u001b[0;32melif\u001b[0m \u001b[0mmode\u001b[0m \u001b[0;34m==\u001b[0m \u001b[0;34m'r+'\u001b[0m\u001b[0;34m:\u001b[0m\u001b[0;34m\u001b[0m\u001b[0;34m\u001b[0m\u001b[0m\n\u001b[1;32m    222\u001b[0m         \u001b[0mfid\u001b[0m \u001b[0;34m=\u001b[0m \u001b[0mh5f\u001b[0m\u001b[0;34m.\u001b[0m\u001b[0mopen\u001b[0m\u001b[0;34m(\u001b[0m\u001b[0mname\u001b[0m\u001b[0;34m,\u001b[0m \u001b[0mh5f\u001b[0m\u001b[0;34m.\u001b[0m\u001b[0mACC_RDWR\u001b[0m\u001b[0;34m,\u001b[0m \u001b[0mfapl\u001b[0m\u001b[0;34m=\u001b[0m\u001b[0mfapl\u001b[0m\u001b[0;34m)\u001b[0m\u001b[0;34m\u001b[0m\u001b[0;34m\u001b[0m\u001b[0m\n",
      "\u001b[0;32mh5py/_objects.pyx\u001b[0m in \u001b[0;36mh5py._objects.with_phil.wrapper\u001b[0;34m()\u001b[0m\n",
      "\u001b[0;32mh5py/_objects.pyx\u001b[0m in \u001b[0;36mh5py._objects.with_phil.wrapper\u001b[0;34m()\u001b[0m\n",
      "\u001b[0;32mh5py/h5f.pyx\u001b[0m in \u001b[0;36mh5py.h5f.open\u001b[0;34m()\u001b[0m\n",
      "\u001b[0;31mFileNotFoundError\u001b[0m: [Errno 2] Unable to open file (unable to open file: name = '/home/ec2-user/SageMaker/keras_model/model-weights.h5', errno = 2, error message = 'No such file or directory', flags = 0, o_flags = 0)"
     ]
    }
   ],
   "source": [
    "import tensorflow as tf\n",
    "from keras.models import model_from_json\n",
    "path = '/Users/zacharybenson/Desktop/Final/aws/'\n",
    "json_file = open(path+'model.json', 'r')\n",
    "loaded_model_json = json_file.read()\n",
    "json_file.close()\n",
    "loaded_model = model_from_json(loaded_model_json,custom_objects={\"GlorotUniform\": tf.keras.initializers.glorot_uniform})\n",
    "loaded_model.load_weights(path + 'model-weights.h5')"
   ]
  },
  {
   "cell_type": "code",
   "execution_count": null,
   "metadata": {},
   "outputs": [],
   "source": [
    "from tensorflow.python.saved_model import builder\n",
    "from tensorflow.python.saved_model.signature_def_utils import predict_signature_def\n",
    "from tensorflow.python.saved_model import tag_constants\n",
    "\n",
    "model_version = '1'\n",
    "export_dir = 'export/Servo/' + model_version\n",
    "\n",
    "builder = builder.SavedModelBuilder(export_dir)\n",
    "\n",
    "signature = predict_signature_def(\n",
    "    inputs={\"inputs\": loaded_model.input}, outputs={\"score\": loaded_model.output})\n",
    "\n",
    "from keras import backend as K\n",
    "with K.get_session() as sess:\n",
    "    builder.add_meta_graph_and_variables(\n",
    "        sess=sess, tags=[tag_constants.SERVING], signature_def_map={\"serving_default\": signature})\n",
    "    builder.save()\n"
   ]
  },
  {
   "cell_type": "code",
   "execution_count": null,
   "metadata": {},
   "outputs": [],
   "source": [
    "import tarfile\n",
    "with tarfile.open('model.tar.gz', mode='w:gz') as archive:\n",
    "    archive.add('export', recursive=True)\n",
    "\n",
    "import sagemaker\n",
    "sagemaker_session = sagemaker.Session()\n",
    "inputs = sagemaker_session.upload_data(path='model.tar.gz', key_prefix='model')"
   ]
  }
 ],
 "metadata": {
  "interpreter": {
   "hash": "5222b9e6c71d7f1e2bb61caa89897cbb7b34f97b55cd9b91d5800888aee1f8a7"
  },
  "kernelspec": {
   "display_name": "Python 3 (ipykernel)",
   "language": "python",
   "name": "python3"
  },
  "language_info": {
   "codemirror_mode": {
    "name": "ipython",
    "version": 3
   },
   "file_extension": ".py",
   "mimetype": "text/x-python",
   "name": "python",
   "nbconvert_exporter": "python",
   "pygments_lexer": "ipython3",
   "version": "3.9.10"
  }
 },
 "nbformat": 4,
 "nbformat_minor": 2
}
